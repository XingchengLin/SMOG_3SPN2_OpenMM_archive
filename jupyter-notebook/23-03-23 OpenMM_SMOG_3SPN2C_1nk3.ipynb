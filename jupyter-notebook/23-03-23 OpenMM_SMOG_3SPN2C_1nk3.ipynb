{
 "cells": [
  {
   "cell_type": "markdown",
   "metadata": {},
   "source": [
    "# Test pdb 1nk3"
   ]
  },
  {
   "cell_type": "code",
   "execution_count": 7,
   "metadata": {},
   "outputs": [],
   "source": [
    "# code modified based on Xingcheng's code\n",
    "import sys\n",
    "import numpy as np\n",
    "import pandas as pd\n",
    "import simtk.openmm\n",
    "import simtk.unit as unit\n",
    "import os\n",
    "import glob\n",
    "import shutil\n",
    "import time\n",
    "import MDAnalysis as mda\n",
    "import math\n",
    "import mdtraj\n",
    "pd.set_option(\"display.precision\", 10)\n",
    "\n",
    "ca_sbm_3spn_openmm_path = '/Users/xl23/GitHub/CA_SBM_3SPN2C_OPENMM'\n",
    "sys.path.insert(0, ca_sbm_3spn_openmm_path)\n",
    "\n",
    "import openSMOG3SPN2.open3SPN2.ff3SPN2 as ff3SPN2\n",
    "import openSMOG3SPN2.calphaSMOG.ffCalpha as ffCalpha\n",
    "import openSMOG3SPN2.openFiber as openFiber\n",
    "\n",
    "output_dir = f'{ca_sbm_3spn_openmm_path}/jupyter-notebook/output-files/1nk3'\n",
    "if not os.path.exists(output_dir):\n",
    "    os.makedirs(output_dir)\n",
    "os.chdir(output_dir)\n"
   ]
  },
  {
   "cell_type": "code",
   "execution_count": 8,
   "metadata": {},
   "outputs": [
    {
     "name": "stdout",
     "output_type": "stream",
     "text": [
      "Set smog bonded energy scale as None\n",
      "use the new set of base step geometry parameters\n",
      "the DNA sequence is W-C paired!\n",
      "use the sequence of the first ssDNA as the input sequence for x3dna\n",
      "Combine smog and dna exclusions\n",
      "Adding force SMOGBond takes 0.0058002471923828125 seconds\n",
      "Adding force SMOGAngle takes 0.005472898483276367 seconds\n",
      "Adding force SMOGDihedral takes 0.012825965881347656 seconds\n",
      "Adding force SMOGNativePair takes 0.011469125747680664 seconds\n",
      "Adding force DNABond takes 0.01340484619140625 seconds\n",
      "Adding force DNAAngle takes 0.016267061233520508 seconds\n",
      "Adding force DNAStacking takes 0.005185127258300781 seconds\n",
      "Adding force DNADihedral takes 0.01698899269104004 seconds\n",
      "Adding force DNABasePair takes 0.02295708656311035 seconds\n",
      "Adding force DNACrossStacking takes 0.08803796768188477 seconds\n",
      "Adding force AllVanderWaals takes 0.11543083190917969 seconds\n",
      "For electrostatic interactions, set monovalent salt concentration as 150 mM\n",
      "For electrostatic interactions, set temperature as 300 K\n",
      "DNA-DNA dielectric constant is 74.911342375825\n",
      "Protein-protein and protein-DNA dielectric constant is 78\n",
      "Adding force AllElectrostatics takes 0.0878300666809082 seconds\n"
     ]
    }
   ],
   "source": [
    "# load 1nk3 pdb file\n",
    "pdb_path = f'{ca_sbm_3spn_openmm_path}/data/1nk3/atomistic.pdb'\n",
    "fix = ff3SPN2.fixPDB(pdb_path)\n",
    "complex_table = ff3SPN2.pdb2table(fix)\n",
    "cg_protein = ffCalpha.Protein.CoarseGrain(complex_table)\n",
    "cg_dna = ff3SPN2.DNA.CoarseGrain(complex_table)\n",
    "protein = ffCalpha.Protein.fromCoarsePandasDataFrame(df=cg_protein)\n",
    "smog_files_dir = f'{ca_sbm_3spn_openmm_path}/data/1nk3'\n",
    "protein.add_smog_bonds(f'{smog_files_dir}/bonds.dat')\n",
    "protein.add_smog_angles(f'{smog_files_dir}/angles.dat')\n",
    "protein.add_smog_dihedrals(f'{smog_files_dir}/dihedrals.dat')\n",
    "protein.add_smog_native_pairs(f'{smog_files_dir}/pairs.dat')\n",
    "dna = ff3SPN2.DNA.fromCoarsePandasDataFrame(df=cg_dna, dna_type='B_curved')\n",
    "protein_dna = openFiber.SMOG3SPN2()\n",
    "protein_dna.add_protein_dna_object(protein)\n",
    "protein_dna.add_protein_dna_object(dna)\n",
    "atoms_to_pdb = protein_dna.atoms.copy()\n",
    "\n",
    "chainID_dict = {1:'A', 2:'B', 3:'C'}\n",
    "original_chainID = atoms_to_pdb['chainID']\n",
    "new_chainID = []\n",
    "for i in original_chainID:\n",
    "    new_chainID.append(chainID_dict[int(i)])\n",
    "atoms_to_pdb['chainID'] = new_chainID\n",
    "protein_dna.pdb = 'cg_1nk3.pdb'\n",
    "ffCalpha.writePDB(atoms_to_pdb, protein_dna.pdb)\n",
    "\n",
    "protein_dna.periodic = True\n",
    "protein_dna.smog_energy_scale = 3.75\n",
    "protein_dna.temperature = 300*unit.kelvin\n",
    "protein_dna.salt_concentration = 150*unit.millimolar\n",
    "protein_dna.parse_smog_exclusions(exclude_native_pairs=False)\n",
    "protein_dna.smog_exclusions.to_csv('smog_exclusions.csv', index=False)\n",
    "protein_dna.create_system()\n",
    "protein_dna.add_forces()\n",
    "\n"
   ]
  },
  {
   "cell_type": "code",
   "execution_count": 9,
   "metadata": {},
   "outputs": [
    {
     "name": "stdout",
     "output_type": "stream",
     "text": [
      "Use NoseHooverIntegrator\n",
      "Use platform CPU\n"
     ]
    }
   ],
   "source": [
    "protein_dna.top = simtk.openmm.app.PDBFile(protein_dna.pdb).getTopology()\n",
    "protein_dna.init_coord = simtk.openmm.app.PDBFile(protein_dna.pdb).getPositions(asNumpy=True)\n",
    "protein_dna.set_simulation(timestep=5*unit.femtosecond, platform_name='CPU')\n",
    "\n",
    "columns = ['overall', 'protein bond', 'protein angle', 'protein dihedral', 'native pair', 'DNA bond', 'DNA angle', 'stacking', 'DNA dihedral', 'base pair', 'cross stacking', 'Van der Waals', 'electrostatic']\n",
    "df_energy = pd.DataFrame(columns=columns)\n",
    "row = []\n",
    "\n",
    "#Set initial positions\n",
    "protein_dna.simulation.context.setPositions(protein_dna.init_coord)\n",
    "\n",
    "state = protein_dna.simulation.context.getState(getEnergy=True)\n",
    "energy = state.getPotentialEnergy().value_in_unit(unit.kilocalorie_per_mole)\n",
    "row.append(energy)\n",
    "for j in range(1, 13):\n",
    "    state = protein_dna.simulation.context.getState(getEnergy=True, groups={j})\n",
    "    energy = state.getPotentialEnergy().value_in_unit(unit.kilocalorie_per_mole)\n",
    "    row.append(energy)\n",
    "row = np.array(row)\n",
    "df_energy.loc[len(df_energy.index)] = row\n",
    "df_energy = df_energy.round(6)\n",
    "#print(df_energy)"
   ]
  },
  {
   "cell_type": "code",
   "execution_count": 10,
   "metadata": {},
   "outputs": [
    {
     "name": "stdout",
     "output_type": "stream",
     "text": [
      "        overall  protein bond  protein angle  protein dihedral  native pair  \\\n",
      "0   1123.274817      0.000000       0.000000          0.000000  -104.867065   \n",
      "1  22690.253334   3028.383273      79.443059         11.625255   -57.225121   \n",
      "\n",
      "      DNA bond    DNA angle      stacking  DNA dihedral   base pair  \\\n",
      "0    57.083183   340.233200    908.572116    -59.381475    3.761660   \n",
      "1  1711.467230  1102.903576  16166.192269    -48.120850  711.320178   \n",
      "\n",
      "   cross stacking  Van der Waals  electrostatic  \n",
      "0       -7.399611      -6.248051      -8.479139  \n",
      "1       -3.488199      -4.081793      -8.165544  \n"
     ]
    }
   ],
   "source": [
    "# load dcd coordinates\n",
    "dcd1 = f'{ca_sbm_3spn_openmm_path}/data/1nk3/initial.dcd'\n",
    "dcd2 = f'{ca_sbm_3spn_openmm_path}/data/1nk3/perturbed.dcd'\n",
    "for each_dcd in [dcd2]:\n",
    "    with mdtraj.formats.DCDTrajectoryFile(each_dcd, 'r') as f:\n",
    "        xyz, cell_lengths, cell_angles = f.read()\n",
    "    xyz /= 10 # convert unit to nm\n",
    "    protein_dna.simulation.context.setPositions(xyz[0])\n",
    "    row = []\n",
    "    state = protein_dna.simulation.context.getState(getEnergy=True)\n",
    "    energy = state.getPotentialEnergy().value_in_unit(unit.kilocalorie_per_mole)\n",
    "    row.append(energy)\n",
    "    for j in range(1, 13):\n",
    "        state = protein_dna.simulation.context.getState(getEnergy=True, groups={j})\n",
    "        energy = state.getPotentialEnergy().value_in_unit(unit.kilocalorie_per_mole)\n",
    "        row.append(energy)\n",
    "    row = np.array(row)\n",
    "    df_energy.loc[len(df_energy.index)] = row\n",
    "    df_energy = df_energy.round(6)\n",
    "print(df_energy)\n",
    "    "
   ]
  },
  {
   "cell_type": "code",
   "execution_count": 11,
   "metadata": {},
   "outputs": [
    {
     "name": "stdout",
     "output_type": "stream",
     "text": [
      "#\"Step\",\"Time (ps)\",\"Potential Energy (kJ/mole)\",\"Kinetic Energy (kJ/mole)\",\"Total Energy (kJ/mole)\",\"Temperature (K)\",\"Speed (ns/day)\"\n",
      "10,0.049999999999999996,-1363.2328770535821,462.8456124578946,-900.3872645956875,236.38017762846667,0\n",
      "20,0.10000000000000002,-1325.079231884133,423.2206726288563,-901.8585592552766,216.14329936237428,19.9\n",
      "30,0.15000000000000005,-1288.4573731707762,381.4714386176549,-906.9859345531213,194.8215214610704,20\n",
      "40,0.2000000000000001,-1253.3880659047975,349.9073719575439,-903.4806939472536,178.70141686685747,19.8\n",
      "50,0.2500000000000001,-1252.509081194196,348.8379380847106,-903.6711431094853,178.15524561230066,19.8\n",
      "60,0.30000000000000016,-1273.1343238530817,373.82039642664324,-899.3139274264385,190.91405282903543,19.7\n",
      "70,0.3500000000000002,-1268.4535112641058,370.55056755100827,-897.9029437130976,189.2441164406731,19.6\n",
      "80,0.40000000000000024,-1286.8094410601075,394.0336892913152,-892.7757517687922,201.23719650632813,19.6\n",
      "90,0.4500000000000003,-1298.8238614179968,412.7447999426479,-886.0790614753489,210.79315974836982,19.6\n",
      "100,0.5000000000000003,-1285.278774785016,405.4742162212846,-879.8045585637312,207.07999530376827,19.6\n"
     ]
    }
   ],
   "source": [
    "protein_dna.simulation.context.setPositions(protein_dna.init_coord)\n",
    "protein_dna.simulation.minimizeEnergy()\n",
    "protein_dna.simulation.context.setVelocitiesToTemperature(protein_dna.temperature)\n",
    "protein_dna.add_reporters(10, report_dcd=False)\n",
    "protein_dna.simulation.step(100)"
   ]
  },
  {
   "cell_type": "code",
   "execution_count": null,
   "metadata": {},
   "outputs": [],
   "source": []
  }
 ],
 "metadata": {
  "kernelspec": {
   "display_name": "Python 3",
   "language": "python",
   "name": "python3"
  },
  "language_info": {
   "codemirror_mode": {
    "name": "ipython",
    "version": 3
   },
   "file_extension": ".py",
   "mimetype": "text/x-python",
   "name": "python",
   "nbconvert_exporter": "python",
   "pygments_lexer": "ipython3",
   "version": "3.6.7"
  },
  "vscode": {
   "interpreter": {
    "hash": "95d07581651f3c45a5651aa035df7e4a83b5587ddccf2e46662da40695cb8d28"
   }
  }
 },
 "nbformat": 4,
 "nbformat_minor": 2
}
