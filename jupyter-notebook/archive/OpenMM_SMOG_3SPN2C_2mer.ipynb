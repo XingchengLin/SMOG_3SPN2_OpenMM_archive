{
 "cells": [
  {
   "cell_type": "code",
   "execution_count": 1,
   "metadata": {},
   "outputs": [
    {
     "name": "stderr",
     "output_type": "stream",
     "text": [
      "Warning: importing 'simtk.openmm' is deprecated.  Import 'openmm' instead.\n",
      "/Users/smliu/anaconda3/envs/py36/lib/python3.6/site-packages/tqdm/auto.py:22: TqdmWarning: IProgress not found. Please update jupyter and ipywidgets. See https://ipywidgets.readthedocs.io/en/stable/user_install.html\n",
      "  from .autonotebook import tqdm as notebook_tqdm\n"
     ]
    }
   ],
   "source": [
    "import sys\n",
    "import numpy as np\n",
    "import pandas as pd\n",
    "import simtk.openmm\n",
    "import simtk.unit as unit\n",
    "import os\n",
    "import glob\n",
    "import shutil\n",
    "import time\n",
    "import MDAnalysis as mda\n",
    "import math\n",
    "pd.set_option(\"display.precision\", 10)\n",
    "\n",
    "ca_sbm_3spn_openmm_path = '/Users/smliu/Documents/Projects/CA_SBM_3SPN2C_OPENMM'\n",
    "sys.path.insert(0, ca_sbm_3spn_openmm_path)\n",
    "\n",
    "import openSMOG3SPN2.open3SPN2.ff3SPN2 as ff3SPN2\n",
    "import openSMOG3SPN2.calphaSMOG.ffCalpha as ffCalpha\n",
    "import openSMOG3SPN2.openFiber as openFiber\n",
    "import openSMOG3SPN2.rigid\n",
    "\n",
    "# set some global parameters\n",
    "n_nucl = 2\n",
    "scale_factor = 2.5 # scale factor for all the SBM related potentials\n",
    "run_smog = False\n",
    "apply_rigid_body = False\n",
    "compare_with_lammps = True\n",
    "run_sim = False\n",
    "dna_seq_file = None\n",
    "ffCalpha_xml_path = '%s/openSMOG3SPN2/calphaSMOG/ffCalpha.xml' % ca_sbm_3spn_openmm_path\n",
    "smog_dir = '/Users/administrator/Documents/Tools/smog-2.2' # the directory where smog is installed\n",
    "# smog_dir does not matter if run_smog == False\n",
    "histone_dna_data_dir = '%s/data/chromatin-%dmer/separate-%dmer-output' % (ca_sbm_3spn_openmm_path, n_nucl, n_nucl) # the path that saves the input pdb structures for all the dna and histones (each histone is saved in one pdb file)\n",
    "group_rigid_txt_path = '%s/data/chromatin-%dmer/chromatin-%dmer-rigid-group/group_rigid.txt' % (ca_sbm_3spn_openmm_path, n_nucl, n_nucl) # group_rigid.txt file with atom index starts from 1 (lammps format)\n",
    "main_output_dir = '%s/output-files/chromatin-%dmer' % (ca_sbm_3spn_openmm_path, n_nucl) # the main output directory\n",
    "smog_output_dir = '%s/smog' % main_output_dir # smog output directory\n",
    "openmm_files_dir = '%s/openmm-files' % main_output_dir\n",
    "platform_name = 'CPU' # 'Reference', 'CPU', 'CUDA', 'OpenCL'\n",
    "sim_output_dir = '%s/sim-test-%s' % (openmm_files_dir, platform_name)\n",
    "init_system_state_dir = '%s/init-system-state' % main_output_dir\n",
    "\n",
    "# build the output directories\n",
    "if not os.path.exists(main_output_dir):\n",
    "    os.makedirs(main_output_dir)\n",
    "if not os.path.exists(smog_output_dir):\n",
    "    os.makedirs(smog_output_dir)\n",
    "if not os.path.exists(openmm_files_dir):\n",
    "    os.makedirs(openmm_files_dir)\n",
    "if not os.path.exists(sim_output_dir):\n",
    "    os.makedirs(sim_output_dir)\n",
    "if not os.path.exists(init_system_state_dir):\n",
    "    os.makedirs(init_system_state_dir)\n",
    "\n",
    "dcd_path = '%s/data/chromatin-%dmer/chromatin-%dmer-snapshots/relaxed1.dcd' % (ca_sbm_3spn_openmm_path, n_nucl, n_nucl)"
   ]
  },
  {
   "cell_type": "markdown",
   "metadata": {},
   "source": [
    "# 1 Build the CG model for the chromatin"
   ]
  },
  {
   "cell_type": "markdown",
   "metadata": {},
   "source": [
    "## 1.1 Load PDB structures"
   ]
  },
  {
   "cell_type": "code",
   "execution_count": 2,
   "metadata": {},
   "outputs": [],
   "source": [
    "# load each histone\n",
    "all_histone_fix_list = []\n",
    "for i in range(n_nucl):\n",
    "    all_histone_fix_list.append(ff3SPN2.fixPDB('%s/histone-%d.pdb' % (histone_dna_data_dir, i + 1)))\n",
    "\n",
    "# load dna\n",
    "dna_fix = ff3SPN2.fixPDB('%s/dna.pdb' % histone_dna_data_dir)\n",
    "\n",
    "# convert to pandas format tables that includes all the information of each histone and dna\n",
    "# we use pandas table because there is no length limit for the entries\n",
    "all_histone_atom_tables = []\n",
    "for each in all_histone_fix_list:\n",
    "    all_histone_atom_tables.append(ff3SPN2.pdb2table(each))\n",
    "\n",
    "dna_atom_table = ff3SPN2.pdb2table(dna_fix)\n",
    "\n",
    "# update serial for each histone and dna\n",
    "for i in range(len(all_histone_atom_tables)):\n",
    "    all_histone_atom_tables[i] = openFiber.change_serial_resSeq(all_histone_atom_tables[i], change_resSeq=False)\n",
    "dna_atom_table = openFiber.change_serial_resSeq(dna_atom_table, change_resSeq=False)\n",
    "\n",
    "# combine the tables for histones and DNA\n",
    "complex_table = all_histone_atom_tables[0]\n",
    "for i in range(1, len(all_histone_atom_tables)):\n",
    "    complex_table = openFiber.combine_molecules(complex_table, all_histone_atom_tables[i], add_resSeq=False)\n",
    "complex_table = openFiber.combine_molecules(complex_table, dna_atom_table, add_resSeq=False)\n",
    "\n",
    "# write the data into csv file\n",
    "all_atom_output_dir = '%s/all-atom-fiber' % main_output_dir\n",
    "if not os.path.exists(all_atom_output_dir):\n",
    "    os.makedirs(all_atom_output_dir)\n",
    "complex_table.to_csv('%s/chromatin-%dmer.csv' % (all_atom_output_dir, n_nucl), index=False)\n"
   ]
  },
  {
   "cell_type": "markdown",
   "metadata": {},
   "source": [
    "## 1.2 Apply SMOG to histones"
   ]
  },
  {
   "cell_type": "code",
   "execution_count": 3,
   "metadata": {},
   "outputs": [],
   "source": [
    "# write all the histones into a PDB file\n",
    "ffCalpha.writePDB_protein(complex_table, '%s/histones.pdb' % smog_output_dir)\n",
    "\n",
    "# add TER to the pdb file\n",
    "input_pdb_path = '%s/histones.pdb' % smog_output_dir\n",
    "output_pdb_path = '%s/histones_clean.pdb' % smog_output_dir\n",
    "openFiber.add_ter_end_and_remove_OXT_for_pdb(input_pdb_path, output_pdb_path)"
   ]
  },
  {
   "cell_type": "code",
   "execution_count": 4,
   "metadata": {},
   "outputs": [],
   "source": [
    "if run_smog:\n",
    "    # perform smog on the clean protein pdb file\n",
    "    cmd = 'source %s/configure.smog2; ' % smog_dir\n",
    "    cmd = cmd + 'cd %s; ' % smog_output_dir\n",
    "    sbm_aa_path = '%s/share/templates/SBM_AA' % smog_dir\n",
    "    sbm_calpha_gaussian_path = '%s/share/templates/SBM_calpha+gaussian' % smog_dir\n",
    "    cmd = cmd + 'smog2 -i histones_clean.pdb -t %s -tCG %s' % (sbm_aa_path, sbm_calpha_gaussian_path)\n",
    "    #print(cmd)\n",
    "    os.system(cmd)\n",
    "\n",
    "    # pick out sections from smog.top\n",
    "    cmd = 'cd %s; ' % smog_output_dir\n",
    "    py_get_section_script_path = '%s/openSMOG3SPN2/getSection.py' % ca_sbm_3spn_openmm_path\n",
    "    key_word_list = ['atoms', 'bonds', 'angles', 'dihedrals', 'pairs', 'exclusions', 'system']\n",
    "    for i in range(len(key_word_list) - 1):\n",
    "        keyword1 = key_word_list[i]\n",
    "        keyword2 = key_word_list[i + 1]\n",
    "        cmd = cmd + 'python %s ./smog.top %s.dat \"[ %s ]\" \"[ %s ]\"; ' % (py_get_section_script_path, keyword1, keyword1, keyword2)\n",
    "    #print(cmd)\n",
    "    os.system(cmd)\n"
   ]
  },
  {
   "cell_type": "markdown",
   "metadata": {},
   "source": [
    "## 1.3 Load DNA and histone CG models separately and then combine them"
   ]
  },
  {
   "cell_type": "code",
   "execution_count": 5,
   "metadata": {},
   "outputs": [],
   "source": [
    "# generate DNA and protein CG model from complex_table\n",
    "cg_dna = ff3SPN2.DNA.CoarseGrain(complex_table)\n",
    "cg_proteins = ffCalpha.Protein.CoarseGrain(complex_table)\n",
    "\n",
    "# update the sequence for cg_dna\n",
    "if dna_seq_file != None:\n",
    "    n_bp, target_dna_seq = openFiber.load_dna_seq_file(dna_seq_file)\n",
    "    cg_dna = openFiber.update_cg_dna_seq(cg_dna, target_dna_seq)\n",
    "\n",
    "# combine CG histones and DNA\n",
    "cg_fiber = pd.concat([cg_proteins, cg_dna], sort=False)\n",
    "cg_fiber.index = list(range(len(cg_fiber.index)))\n",
    "cg_fiber['serial'] = list(range(len(cg_fiber.index)))\n",
    "n_cg_atoms = cg_fiber.shape[0]\n",
    "\n",
    "# change the chainID of the chromatin fiber\n",
    "cg_fiber_unique_chainID = openFiber.change_unique_chainID(cg_fiber)\n",
    "\n",
    "# save protein sequence\n",
    "if not os.path.exists('%s/cg-fiber' % main_output_dir):\n",
    "    os.makedirs('%s/cg-fiber' % main_output_dir)\n",
    "protein_seq_path = '%s/cg-fiber/protein_seq.txt' % main_output_dir\n",
    "ffCalpha.save_protein_sequence(cg_fiber_unique_chainID, sequence_file=protein_seq_path)\n",
    "\n",
    "# write cg_fiber to pdb format, which will later be loaded by openmm\n",
    "# note we convert cg_fiber instead of cg_fiber_unique_chainID to pdb format, since cg_fiber_unique_chainID may have chainID length beyond the limit of pdb format\n",
    "cg_fiber_pdb_path = '%s/cg-fiber/cg_fiber.pdb' % main_output_dir\n",
    "#print(cg_fiber)\n",
    "ffCalpha.writePDB(cg_fiber, cg_fiber_pdb_path)\n",
    "cg_fiber.to_csv('%s/cg-fiber/cg_fiber.csv' % main_output_dir, index=False)\n",
    "\n",
    "# also save cg_fiber_unique_chainID.csv\n",
    "cg_fiber_unique_chainID.to_csv('%s/cg-fiber/cg_fiber_unique_chainID.csv' % main_output_dir, index=False)"
   ]
  },
  {
   "cell_type": "markdown",
   "metadata": {},
   "source": [
    "# 2 Set up OpenMM simulations"
   ]
  },
  {
   "cell_type": "markdown",
   "metadata": {},
   "source": [
    "## 2.1 Set up the system, protein and dna objects"
   ]
  },
  {
   "cell_type": "code",
   "execution_count": 6,
   "metadata": {},
   "outputs": [],
   "source": [
    "cg_fiber_pdb_path = '%s/cg-fiber/cg_fiber.pdb' % main_output_dir\n",
    "os.chdir('%s/cg-fiber' % main_output_dir)\n",
    "\n",
    "pdb = simtk.openmm.app.PDBFile(cg_fiber_pdb_path)\n",
    "coord_pdb = pdb.getPositions(asNumpy=True)\n",
    "top = pdb.getTopology()\n",
    "coord = openFiber.load_coord_from_dcd(cg_fiber_pdb_path, dcd_path)\n",
    "forcefield = simtk.openmm.app.ForceField(ffCalpha_xml_path, ff3SPN2.xml)\n",
    "s = forcefield.createSystem(top)"
   ]
  },
  {
   "cell_type": "code",
   "execution_count": 7,
   "metadata": {},
   "outputs": [
    {
     "name": "stdout",
     "output_type": "stream",
     "text": [
      "use the new set of base step geometry parameters\n",
      "the DNA sequence is W-C paired!\n",
      "use the sequence of the first ssDNA as the input sequence for x3dna\n"
     ]
    }
   ],
   "source": [
    "# create the DNA and protein objects\n",
    "dna = ff3SPN2.DNA.fromCoarsePandasDataFrame(pd_df=cg_fiber_unique_chainID, dna_type='B_curved')\n",
    "with open(protein_seq_path, 'r') as ps:\n",
    "    protein_seq = ps.readlines()[0].rstrip()\n",
    "protein = ffCalpha.Protein.fromCoarsePandasDataFrame(pd_df=cg_fiber_unique_chainID, sequence=protein_seq)\n",
    "\n",
    "dna.periodic = False\n",
    "protein.periodic = False\n"
   ]
  },
  {
   "cell_type": "code",
   "execution_count": 8,
   "metadata": {},
   "outputs": [],
   "source": [
    "# save dna bonds, angles, and dihedrals\n",
    "# dna bonds, angles and dihedral equilibrium values are based on template built by x3dna\n",
    "dna.bonds.to_csv('%s/cg-fiber/dna_bonds.csv' % main_output_dir, index=False)\n",
    "dna.angles.to_csv('%s/cg-fiber/dna_angles.csv' % main_output_dir, index=False)\n",
    "dna.stackings.to_csv('%s/cg-fiber/dna_stackings.csv' % main_output_dir, index=False)\n",
    "dna.dihedrals.to_csv('%s/cg-fiber/dna_dihedrals.csv' % main_output_dir, index=False)"
   ]
  },
  {
   "cell_type": "code",
   "execution_count": 9,
   "metadata": {},
   "outputs": [],
   "source": [
    "# get DNA sequence\n",
    "dna_seq = dna.getFullSequences()\n",
    "dna_seq = ''.join(dna_seq.values)\n",
    "dna_seq = dna_seq[:int(len(dna_seq)/2)]\n",
    "\n",
    "# compare with target sequence\n",
    "dna_seq_file = '%s/data/chromatin-%dmer/dnaSeq.txt' % (ca_sbm_3spn_openmm_path, n_nucl)\n",
    "n_bp, target_dna_seq = openFiber.load_dna_seq_file(dna_seq_file)\n",
    "if dna_seq != target_dna_seq:\n",
    "    print('DNA sequence is not consistent with input sequence!')\n"
   ]
  },
  {
   "cell_type": "markdown",
   "metadata": {},
   "source": [
    "## 2.2 Set up forces"
   ]
  },
  {
   "cell_type": "markdown",
   "metadata": {},
   "source": [
    "### 2.2.1 Set up rigid body list and chain list"
   ]
  },
  {
   "cell_type": "code",
   "execution_count": 10,
   "metadata": {},
   "outputs": [
    {
     "name": "stdout",
     "output_type": "stream",
     "text": [
      "n_cg_atoms = 3830\n"
     ]
    }
   ],
   "source": [
    "# create rigid identity list for the fiber\n",
    "rigid_body_array = np.loadtxt(group_rigid_txt_path, dtype=int) - 1 # atom index starts from 0\n",
    "fiber_rigid_identity = []\n",
    "print('n_cg_atoms = %d' % n_cg_atoms)\n",
    "for i in range(n_cg_atoms):\n",
    "    rigid_identity = None\n",
    "    if apply_rigid_body:\n",
    "        for j in range(n_nucl):\n",
    "            if i in rigid_body_array[j]:\n",
    "                rigid_identity = j\n",
    "                break\n",
    "    fiber_rigid_identity.append(rigid_identity)\n",
    "\n",
    "# save fiber_rigid_identity\n",
    "if apply_rigid_body:\n",
    "    fiber_rigid_identity_output_path = '%s/cg-fiber/rigid_identity.dat' % main_output_dir\n",
    "    openFiber.write(fiber_rigid_identity, fiber_rigid_identity_output_path)\n",
    "\n",
    "#print(fiber_rigid_identity)\n",
    "histones_chains = openFiber.get_single_fiber_histones_chains(n_nucl)"
   ]
  },
  {
   "cell_type": "markdown",
   "metadata": {},
   "source": [
    "### 2.2.2 Set up forces for histones and dna"
   ]
  },
  {
   "cell_type": "code",
   "execution_count": 11,
   "metadata": {},
   "outputs": [
    {
     "name": "stdout",
     "output_type": "stream",
     "text": [
      "total number of protein native pairs is 4692\n",
      "Compare with lammps, include MJ and electrostatic interactions for protein native pairs\n",
      "Warning, in principle MJ and electrostatic interactions should be removed for protein native pairs!\n",
      "remove protein native pairs from protein_exclusions_list\n",
      "Before removing protein native pairs, total number of exclusions between protein atoms is 10440\n",
      "After removing protein native pairs, total number of exclusions between protein atoms is 5748\n",
      "total number of exclusions between DNA atoms is 57486\n",
      "Add protein-protein forces\n",
      "Protein-protein forces are derived from SMOG output parameters\n",
      "adding force BondProtein takes 0.004823 seconds\n",
      "adding force AngleProtein takes 0.005684 seconds\n",
      "adding force DihedralProtein takes 0.010776 seconds\n",
      "adding force NativePairProtein takes 0.017713 seconds\n",
      "adding force NonbondedMJ takes 0.099360 seconds\n",
      "adding force ElectrostaticsProteinProtein takes 0.042306 seconds\n",
      "Add DNA-DNA forces\n",
      "DNA-DNA forces are based on 3SPN2 forcefield\n",
      "force name Bond is updated to BondDNA\n",
      "adding force BondDNA takes 0.211109 seconds\n",
      "force name Angle is updated to AngleDNA\n",
      "adding force AngleDNA takes 0.272317 seconds\n",
      "adding force Stacking takes 0.078045 seconds\n",
      "force name Dihedral is updated to DihedralDNA\n",
      "adding force DihedralDNA takes 0.292451 seconds\n",
      "adding force BasePair takes 0.401146 seconds\n",
      "adding force CrossStacking takes 1.775793 seconds\n",
      "force name Exclusion is updated to ExclusionDNADNA\n",
      "adding force ExclusionDNADNA takes 0.740114 seconds\n",
      "force name Electrostatics is updated to ElectrostaticsDNADNA\n",
      "adding force ElectrostaticsDNADNA takes 0.700614 seconds\n",
      "Add protein-DNA forces\n",
      "Protein-DNA forces include excluded volume interactions and electrostatic interactions\n",
      "adding force ExclusionProteinDNA takes 4.689661 seconds\n",
      "adding force ElectrostaticsProteinDNA takes 1.368215 seconds\n"
     ]
    }
   ],
   "source": [
    "# load the force parameters given by smog\n",
    "smog_atoms_file_path = '%s/atoms.dat' % smog_output_dir\n",
    "smog_bonds_file_path = '%s/bonds.dat' % smog_output_dir\n",
    "smog_angles_file_path = '%s/angles.dat' % smog_output_dir\n",
    "smog_dihedrals_file_path = '%s/dihedrals.dat' % smog_output_dir\n",
    "smog_exclusions_file_path = '%s/exclusions.dat' % smog_output_dir\n",
    "smog_pairs_file_path = '%s/pairs.dat' % smog_output_dir\n",
    "\n",
    "smog_bonds_data = openFiber.load_smog_bonds(smog_bonds_file_path)\n",
    "smog_angles_data = openFiber.load_smog_angles(smog_angles_file_path)\n",
    "smog_dihedrals_data = openFiber.load_smog_dihedrals(smog_dihedrals_file_path)\n",
    "smog_exclusions_data = openFiber.load_smog_exclusions(smog_exclusions_file_path)\n",
    "smog_pairs_data = openFiber.load_smog_pairs(smog_pairs_file_path)\n",
    "\n",
    "# remove protein-protein native pairs if at least one atom is within histone tail\n",
    "# also update smog_exclusions_data based on the new smog_pairs_data\n",
    "smog_pairs_data, smog_exclusions_data = openFiber.remove_IDR_pairs_exclusions(smog_pairs_data, smog_exclusions_data)\n",
    "\n",
    "# also remove dihedrals if at least one atom is within histone tail\n",
    "smog_dihedrals_data = openFiber.remove_IDR_dihedrals(smog_dihedrals_data)\n",
    "\n",
    "# save the new smog_pairs_data, smog_exclusions_data, smog_dihedrals_data\n",
    "openFiber.write_smog_pairs(smog_pairs_data, '%s/pairs_IDR_removed.dat' % smog_output_dir)\n",
    "openFiber.write_smog_exclusions(smog_exclusions_data, '%s/exclusions_IDR_removed.dat' % smog_output_dir)\n",
    "openFiber.write_smog_dihedrals(smog_dihedrals_data, '%s/dihedrals_IDR_removed.dat' % smog_output_dir)\n",
    "\n",
    "smog_data = dict(bonds=smog_bonds_data, angles=smog_angles_data, dihedrals=smog_dihedrals_data, pairs=smog_pairs_data)\n",
    "\n",
    "# set force dictionary\n",
    "forces = {}\n",
    "\n",
    "# set exclusions list and save\n",
    "dna_exclusions_list = ff3SPN2.buildDNANonBondedExclusionsList(dna)\n",
    "dna_exclusions_list_output_path = '%s/cg-fiber/dna_exclusions.dat' % main_output_dir\n",
    "openFiber.write_exclusions_list(dna_exclusions_list, dna_exclusions_list_output_path)\n",
    "protein_exclusions_list = ffCalpha.buildProteinNonBondedExclusionsList(protein, smog_exclusions_data)\n",
    "\n",
    "print('total number of protein native pairs is %d' % smog_exclusions_data.shape[0])\n",
    "\n",
    "# for comparison with lammps, we do not put protein native pairs in protein_exclusions_list\n",
    "if compare_with_lammps:\n",
    "    print('Compare with lammps, include MJ and electrostatic interactions for protein native pairs')\n",
    "    print('Warning, in principle MJ and electrostatic interactions should be removed for protein native pairs!')\n",
    "    print('remove protein native pairs from protein_exclusions_list')\n",
    "    print('Before removing protein native pairs, total number of exclusions between protein atoms is %d' % len(protein_exclusions_list))\n",
    "    smog_exclusions_list = []\n",
    "    for i in range(smog_exclusions_data.shape[0]):\n",
    "        i1, i2 = int(smog_exclusions_data[i, 0]), int(smog_exclusions_data[i, 1])\n",
    "        if i1 > i2:\n",
    "            i1, i2 = i2, i1\n",
    "        smog_exclusions_list.append((i1, i2))\n",
    "    new_protein_exclusions_list = []\n",
    "    for each in protein_exclusions_list:\n",
    "        if each not in smog_exclusions_list:\n",
    "            new_protein_exclusions_list.append(each)\n",
    "    protein_exclusions_list = new_protein_exclusions_list\n",
    "    print('After removing protein native pairs, total number of exclusions between protein atoms is %d' % len(protein_exclusions_list))\n",
    "    protein_exclusions_list_output_path = '%s/cg-fiber/protein_exclusions_compare_with_lammps.dat' % main_output_dir\n",
    "else:\n",
    "    print('total number of exclusions between protein atoms is %d' % len(protein_exclusions_list))\n",
    "    protein_exclusions_list_output_path = '%s/cg-fiber/protein_exclusions.dat' % main_output_dir\n",
    "openFiber.write_exclusions_list(protein_exclusions_list, protein_exclusions_list_output_path)\n",
    "\n",
    "print('total number of exclusions between DNA atoms is %d' % len(dna_exclusions_list))\n",
    "\n",
    "# add DNA-DNA, protein-DNA and protein-protein interactions\n",
    "openFiber.add_protein_dna_forces(s, forces, dna, protein, smog_data, dna_exclusions_list, protein_exclusions_list, fiber_rigid_identity, scale_factor)\n",
    "\n",
    "# save force names and groups as pandas dataframe\n",
    "df_forces_name_group = pd.DataFrame({'group': [], 'name': []})\n",
    "for force_name, force in forces.items():\n",
    "    group = force.getForceGroup()\n",
    "    group = int(group)\n",
    "    df_forces_name_group.loc[len(df_forces_name_group.index)] = [group, force_name]\n",
    "df_forces_name_group.to_csv('%s/forces_name_group.csv' % main_output_dir, index=False)\n"
   ]
  },
  {
   "cell_type": "markdown",
   "metadata": {},
   "source": [
    "## 2.3 Set up rigid body"
   ]
  },
  {
   "cell_type": "code",
   "execution_count": 12,
   "metadata": {},
   "outputs": [],
   "source": [
    "if apply_rigid_body:\n",
    "    rigid_body_array = np.loadtxt(group_rigid_txt_path, dtype=int) - 1 # atom index starts from 0\n",
    "    rigid_body_list = []\n",
    "    for i in range(n_nucl):\n",
    "        new_list = rigid_body_array[i].tolist()\n",
    "        new_list = [int(each) for each in new_list]\n",
    "        rigid_body_list.append(new_list)\n",
    "    openFiber.rigid.createRigidBodies(s, coord, rigid_body_list)"
   ]
  },
  {
   "cell_type": "markdown",
   "metadata": {},
   "source": [
    "## 2.4 Run the simulation"
   ]
  },
  {
   "cell_type": "code",
   "execution_count": 13,
   "metadata": {},
   "outputs": [
    {
     "name": "stdout",
     "output_type": "stream",
     "text": [
      "The overall potential energy is -5387.071675 kcal/mol\n",
      "Group: 1, force name: BondProtein, energy = 572.086984 kcal/mol\n",
      "Group: 2, force name: AngleProtein, energy = 413.327471 kcal/mol\n",
      "Group: 3, force name: DihedralProtein, energy = 110.061952 kcal/mol\n",
      "Group: 4, force name: NativePairProtein, energy = -2066.112534 kcal/mol\n",
      "Group: 5, force name: NonbondedMJ, energy = -337.756852 kcal/mol\n",
      "Group: 6, force name: ElectrostaticsProteinProtein, energy = 81.529240 kcal/mol\n",
      "Group: 7, force name: BondDNA, energy = 280.981968 kcal/mol\n",
      "Group: 8, force name: AngleDNA, energy = 632.934250 kcal/mol\n",
      "Group: 9, force name: Stacking, energy = -1692.943675 kcal/mol\n",
      "Group: 10, force name: DihedralDNA, energy = -1861.648828 kcal/mol\n",
      "Group: 11, force name: BasePair, energy = -1030.840282 kcal/mol\n",
      "Group: 12, force name: CrossStacking, energy = -229.274822 kcal/mol\n",
      "Group: 13, force name: ExclusionDNADNA, energy = 2.795626 kcal/mol\n",
      "Group: 14, force name: ElectrostaticsDNADNA, energy = 100.661733 kcal/mol\n",
      "Group: 15, force name: ExclusionProteinDNA, energy = -18.592335 kcal/mol\n",
      "Group: 16, force name: ElectrostaticsProteinDNA, energy = -344.281570 kcal/mol\n"
     ]
    }
   ],
   "source": [
    "temperature = 300*unit.kelvin\n",
    "\n",
    "integrator = simtk.openmm.LangevinIntegrator(temperature, 1/unit.picosecond, 10*unit.femtoseconds)\n",
    "platform = simtk.openmm.Platform.getPlatformByName(platform_name)\n",
    "\n",
    "simulation = simtk.openmm.app.Simulation(top, s, integrator, platform)\n",
    "\n",
    "simulation.context.setPositions(coord)\n",
    "energy_unit = unit.kilocalories_per_mole\n",
    "state = simulation.context.getState(getEnergy=True)\n",
    "energy = state.getPotentialEnergy().value_in_unit(energy_unit)\n",
    "print(\"The overall potential energy is %.6f %s\" % (energy, energy_unit.get_symbol()))\n",
    "\n",
    "df_forces_name_group = pd.read_csv('%s/forces_name_group.csv' % main_output_dir)\n",
    "for index, row in df_forces_name_group.iterrows():\n",
    "    group, force_name = int(row['group']), row['name']\n",
    "    state = simulation.context.getState(getEnergy=True, groups={group})\n",
    "    energy = state.getPotentialEnergy().value_in_unit(energy_unit)\n",
    "    print('Group: %d, force name: %s, energy = %.6f %s' % (group, force_name, energy, energy_unit.get_symbol()))"
   ]
  },
  {
   "cell_type": "code",
   "execution_count": 14,
   "metadata": {},
   "outputs": [],
   "source": [
    "# save the system and the state\n",
    "# system.xml contains all of the force field parameters\n",
    "state = simulation.context.getState(getPositions=True, getVelocities=True, getForces=True, getEnergy=True, \n",
    "                                    getParameters=True, enforcePeriodicBox=False)\n",
    "\n",
    "with open('%s/system.xml' % init_system_state_dir, 'w') as f:\n",
    "    system_xml = simtk.openmm.XmlSerializer.serialize(s) \n",
    "    f.write(system_xml)\n",
    "    \n",
    "with open('%s/state.xml' % init_system_state_dir, 'w') as f: \n",
    "    # state.xml contains positions, velocities, forces, the barostat\n",
    "    f.write(simtk.openmm.XmlSerializer.serialize(state))\n",
    "\n"
   ]
  },
  {
   "cell_type": "code",
   "execution_count": 15,
   "metadata": {},
   "outputs": [],
   "source": [
    "if run_sim:\n",
    "    # do the energy minimization\n",
    "    start_time = time.time()\n",
    "    simulation.minimizeEnergy()\n",
    "    end_time = time.time()\n",
    "    delta_time = end_time - start_time\n",
    "    print('energy minimization time cost: %.2f' % delta_time)\n",
    "    energy_unit = unit.kilocalories_per_mole\n",
    "    state = simulation.context.getState(getEnergy=True)\n",
    "    energy = state.getPotentialEnergy().value_in_unit(energy_unit)\n",
    "    print('energy minimized')\n",
    "    print(\"The overall potential energy is %.6f %s\" % (energy, energy_unit.get_symbol()))\n",
    "    for index, row in df_forces_name_group.iterrows():\n",
    "        group, force_name = int(row['group']), row['name']\n",
    "        state = simulation.context.getState(getEnergy=True, groups={group})\n",
    "        energy = state.getPotentialEnergy().value_in_unit(energy_unit)\n",
    "        print('Group: %d, force name: %s, energy = %.6f %s' % (group, force_name, energy, energy_unit.get_symbol()))\n",
    "\n",
    "    # run simulation\n",
    "    simulation.context.setVelocitiesToTemperature(temperature)\n",
    "\n",
    "    # add simulation reporters\n",
    "    dcd_reporter = simtk.openmm.app.DCDReporter('%s/output.dcd' % sim_output_dir, 10)\n",
    "    energy_reporter = simtk.openmm.app.StateDataReporter(sys.stdout, 10, step=True, time=True, potentialEnergy=True, kineticEnergy=True, totalEnergy=True, temperature=True, speed=True)\n",
    "    simulation.reporters.append(dcd_reporter)\n",
    "    simulation.reporters.append(energy_reporter)\n",
    "    start_time = time.time()\n",
    "    n_steps = 100\n",
    "    simulation.step(n_steps)\n",
    "    end_time = time.time()\n",
    "    delta_time = end_time - start_time\n",
    "    print('simulation takes %.2f seconds for %d steps' % (delta_time, n_steps))\n"
   ]
  }
 ],
 "metadata": {
  "kernelspec": {
   "display_name": "Python 3.6.13 ('py36')",
   "language": "python",
   "name": "python3"
  },
  "language_info": {
   "codemirror_mode": {
    "name": "ipython",
    "version": 3
   },
   "file_extension": ".py",
   "mimetype": "text/x-python",
   "name": "python",
   "nbconvert_exporter": "python",
   "pygments_lexer": "ipython3",
   "version": "3.6.13"
  },
  "orig_nbformat": 4,
  "vscode": {
   "interpreter": {
    "hash": "e776f19140cfa6c4dbaa4a82d62abb79ecef5196228207df9c7345bac0c3101e"
   }
  }
 },
 "nbformat": 4,
 "nbformat_minor": 2
}
