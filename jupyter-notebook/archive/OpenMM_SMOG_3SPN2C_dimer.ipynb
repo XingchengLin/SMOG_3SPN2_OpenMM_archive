{
 "cells": [
  {
   "cell_type": "code",
   "execution_count": 1,
   "metadata": {},
   "outputs": [],
   "source": [
    "import sys\n",
    "import numpy as np\n",
    "import pandas as pd\n",
    "import simtk.openmm\n",
    "import os\n",
    "import glob\n",
    "import shutil\n",
    "import time\n",
    "import MDAnalysis as mda\n",
    "import math\n",
    "pd.set_option(\"display.precision\", 10)\n",
    "\n",
    "ca_sbm_3spn_openmm_path = '/Users/administrator/Documents/Projects/CA_SBM_3SPN2C_OPENMM'\n",
    "sys.path.insert(0, ca_sbm_3spn_openmm_path)\n",
    "\n",
    "import openFiber.open3SPN2.ff3SPN2 as ff3SPN2\n",
    "import openFiber.calphaSBM.ffCalpha as ffCalpha\n",
    "import openFiber.openFiberTools as openFiberTools\n",
    "import openFiber.rigid\n",
    "\n",
    "# set some global parameters\n",
    "n_nucl = 2\n",
    "scale_factor = 2.5 # scale factor for all the SBM related potentials\n",
    "run_smog = False\n",
    "apply_rigid_body = False\n",
    "compare_with_lammps = True\n",
    "smog_dir = '/Users/administrator/Documents/Tools/smog-2.2' # the directory where smog is installed\n",
    "# smog_dir does not matter if run_smog == False\n",
    "histone_dna_data_dir = '%s/separate-histone-dna-pdb/%dmer-separate-output' % (ca_sbm_3spn_openmm_path, n_nucl) # the path that saves the input pdb structures for all the dna and histones (each histone is saved in one pdb file)\n",
    "group_rigid_txt_path = '%s/data/chromatin-%dmer-rigid-group/group_rigid.txt' % (ca_sbm_3spn_openmm_path, n_nucl) # group_rigid.txt file with atom index starts from 1 (lammps format)\n",
    "main_output_dir = '%s/files-smliu/chromatin-%dmer' % (ca_sbm_3spn_openmm_path, n_nucl) # the main output directory\n",
    "smog_output_dir = '%s/smog' % main_output_dir # smog output directory\n",
    "openmm_files_dir = '%s/openmm-files' % main_output_dir\n",
    "platform_name = 'CPU' # 'Reference', 'CPU', 'CUDA', 'OpenCL'\n",
    "sim_output_dir = '%s/sim-test-%s' % (openmm_files_dir, platform_name)\n",
    "\n",
    "# build the output directories\n",
    "if not os.path.exists(main_output_dir):\n",
    "    os.makedirs(main_output_dir)\n",
    "if not os.path.exists(smog_output_dir):\n",
    "    os.makedirs(smog_output_dir)\n",
    "if not os.path.exists(openmm_files_dir):\n",
    "    os.makedirs(openmm_files_dir)\n",
    "if not os.path.exists(sim_output_dir):\n",
    "    os.makedirs(sim_output_dir)"
   ]
  },
  {
   "cell_type": "markdown",
   "metadata": {},
   "source": [
    "# 1 Build the CG model for the chromatin"
   ]
  },
  {
   "cell_type": "markdown",
   "metadata": {},
   "source": [
    "## 1.1 Load PDB structures"
   ]
  },
  {
   "cell_type": "code",
   "execution_count": 2,
   "metadata": {},
   "outputs": [],
   "source": [
    "# load each histone\n",
    "all_histone_fix_list = []\n",
    "for i in range(n_nucl):\n",
    "    all_histone_fix_list.append(ff3SPN2.fixPDB('%s/histone-%d.pdb' % (histone_dna_data_dir, i + 1)))\n",
    "\n",
    "# load dna\n",
    "dna_fix = ff3SPN2.fixPDB('%s/dna.pdb' % histone_dna_data_dir)\n",
    "\n",
    "# convert to pandas format tables that includes all the information of each histone and dna\n",
    "# the reason we use pandas table is because there is no length limit for the entries\n",
    "all_histone_atom_tables = []\n",
    "for each in all_histone_fix_list:\n",
    "    all_histone_atom_tables.append(ff3SPN2.pdb2table(each))\n",
    "\n",
    "dna_atom_table = ff3SPN2.pdb2table(dna_fix)\n",
    "\n",
    "# update serial for each histone and dna\n",
    "for i in range(len(all_histone_atom_tables)):\n",
    "    all_histone_atom_tables[i] = openFiberTools.change_serial_resSeq(all_histone_atom_tables[i], change_resSeq=False)\n",
    "dna_atom_table = openFiberTools.change_serial_resSeq(dna_atom_table, change_resSeq=False)\n",
    "\n",
    "# combine the tables for histones and DNA\n",
    "complex_table = all_histone_atom_tables[0]\n",
    "for i in range(1, len(all_histone_atom_tables)):\n",
    "    complex_table = openFiberTools.combine_molecules(complex_table, all_histone_atom_tables[i], add_resSeq=False)\n",
    "complex_table = openFiberTools.combine_molecules(complex_table, dna_atom_table, add_resSeq=False)\n",
    "\n",
    "# write the data into csv file\n",
    "output_dir = '%s/all-atom-fiber' % main_output_dir\n",
    "if not os.path.exists(output_dir):\n",
    "    os.makedirs(output_dir)\n",
    "complex_table.to_csv('%s/chromatin-%dmer.csv' % (output_dir, n_nucl), index=False)\n"
   ]
  },
  {
   "cell_type": "markdown",
   "metadata": {},
   "source": [
    "## 1.2 Apply SMOG to histones"
   ]
  },
  {
   "cell_type": "code",
   "execution_count": 3,
   "metadata": {},
   "outputs": [],
   "source": [
    "# write all the histones into a PDB file\n",
    "ffCalpha.writePDB_protein(complex_table, '%s/histones.pdb' % smog_output_dir)\n",
    "\n",
    "# add TER to the pdb file\n",
    "input_pdb_path = '%s/histones.pdb' % smog_output_dir\n",
    "output_pdb_path = '%s/histones_clean.pdb' % smog_output_dir\n",
    "openFiberTools.add_ter_end_and_remove_OXT_for_pdb(input_pdb_path, output_pdb_path)"
   ]
  },
  {
   "cell_type": "code",
   "execution_count": 4,
   "metadata": {},
   "outputs": [],
   "source": [
    "if run_smog:\n",
    "    # perform smog on the clean protein pdb file\n",
    "    cmd = 'source %s/configure.smog2; ' % smog_dir\n",
    "    cmd = cmd + 'cd %s; ' % smog_output_dir\n",
    "    sbm_aa_path = '%s/share/templates/SBM_AA' % smog_dir\n",
    "    sbm_calpha_gaussian_path = '%s/share/templates/SBM_calpha+gaussian' % smog_dir\n",
    "    cmd = cmd + 'smog2 -i histones_clean.pdb -t %s -tCG %s' % (sbm_aa_path, sbm_calpha_gaussian_path)\n",
    "    print(cmd)\n",
    "    os.system(cmd)\n",
    "\n",
    "    # pick out sections from smog.top\n",
    "    cmd = 'cd %s; ' % smog_output_dir\n",
    "    py_get_section_script_path = '%s/openFiber/getSection.py' % ca_sbm_3spn_openmm_path\n",
    "    key_word_list = ['atoms', 'bonds', 'angles', 'dihedrals', 'pairs', 'exclusions', 'system']\n",
    "    for i in range(len(key_word_list) - 1):\n",
    "        keyword1 = key_word_list[i]\n",
    "        keyword2 = key_word_list[i + 1]\n",
    "        cmd = cmd + 'python %s ./smog.top %s.dat \"[ %s ]\" \"[ %s ]\"; ' % (py_get_section_script_path, keyword1, keyword1, keyword2)\n",
    "    print(cmd)\n",
    "    os.system(cmd)\n"
   ]
  },
  {
   "cell_type": "markdown",
   "metadata": {},
   "source": [
    "## 1.3 Load DNA and histone CG models separately and then combine them"
   ]
  },
  {
   "cell_type": "code",
   "execution_count": 5,
   "metadata": {},
   "outputs": [],
   "source": [
    "# generate DNA and protein CG model from complex_table\n",
    "cg_dna = ff3SPN2.DNA.CoarseGrain(complex_table)\n",
    "cg_proteins = ffCalpha.Protein.CoarseGrain(complex_table)\n",
    "\n",
    "# combine CG histones and DNA\n",
    "cg_fiber = pd.concat([cg_proteins, cg_dna], sort=False)\n",
    "cg_fiber.index = list(range(len(cg_fiber.index)))\n",
    "cg_fiber['serial'] = list(range(len(cg_fiber.index)))\n",
    "\n",
    "# change the chainID of the chromatin fiber\n",
    "cg_fiber_unique_chainID = openFiberTools.change_unique_chainID(cg_fiber)\n",
    "\n",
    "# save protein sequence\n",
    "if not os.path.exists('%s/cg-fiber' % main_output_dir):\n",
    "    os.makedirs('%s/cg-fiber' % main_output_dir)\n",
    "protein_seq_path = '%s/cg-fiber/protein_seq.txt' % main_output_dir\n",
    "ffCalpha.save_protein_sequence(cg_fiber_unique_chainID, sequence_file=protein_seq_path)\n",
    "\n",
    "# write cg_fiber to pdb format, which will later be loaded by openmm\n",
    "# note we convert cg_fiber instead of cg_fiber_unique_chainID to pdb format, since cg_fiber_unique_chainID may have chainID length beyond the limit of pdb format\n",
    "cg_fiber_pdb_path = '%s/cg-fiber/cg_fiber.pdb' % main_output_dir\n",
    "#print(cg_fiber)\n",
    "ffCalpha.writePDB(cg_fiber, cg_fiber_pdb_path)\n",
    "cg_fiber.to_csv('%s/cg-fiber/cg_fiber.csv' % main_output_dir, index=False)\n",
    "\n",
    "# also save cg_fiber_unique_chainID\n",
    "cg_fiber_unique_chainID.to_csv('%s/cg-fiber/cg_fiber_unique_chainID.csv' % main_output_dir, index=False)"
   ]
  },
  {
   "cell_type": "markdown",
   "metadata": {},
   "source": [
    "# 2 Set up OpenMM simulations"
   ]
  },
  {
   "cell_type": "markdown",
   "metadata": {},
   "source": [
    "## 2.1 Set up the system, protein and dna objects"
   ]
  },
  {
   "cell_type": "code",
   "execution_count": 6,
   "metadata": {},
   "outputs": [],
   "source": [
    "ffCalpha_xml_path = '%s/openFiber/calphaSBM/ffCalpha.xml' % ca_sbm_3spn_openmm_path\n",
    "cg_fiber_pdb_path = '%s/cg-fiber/cg_fiber.pdb' % main_output_dir\n",
    "os.chdir('%s/cg-fiber' % main_output_dir)\n",
    "\n",
    "pdb = simtk.openmm.app.PDBFile(cg_fiber_pdb_path)\n",
    "top = pdb.getTopology()\n",
    "coord = pdb.getPositions(asNumpy=True)\n",
    "forcefield = simtk.openmm.app.ForceField(ffCalpha_xml_path, ff3SPN2.xml)\n",
    "s = forcefield.createSystem(top)"
   ]
  },
  {
   "cell_type": "code",
   "execution_count": 7,
   "metadata": {},
   "outputs": [
    {
     "name": "stdout",
     "output_type": "stream",
     "text": [
      "Empty DataFrame\n",
      "Columns: [recname_old, serial_old, name_old, altLoc_old, resname_old, chainID_old, resSeq_old, iCode_old, x_old, y_old, z_old, occupancy_old, tempFactor_old, element_old, charge_old, real_resname, type_old, recname, serial, name, altLoc, resname, chainID, resSeq, iCode, x, y, z, occupancy, tempFactor, element, charge, type]\n",
      "Index: []\n",
      "\n",
      "[0 rows x 33 columns]\n",
      "[134, 1210, 1338, 1460, 1595, 1697, 1825, 1947, 236, 364, 486, 621, 723, 851, 973, 1108]\n"
     ]
    }
   ],
   "source": [
    "# create the DNA and protein objects\n",
    "dna = ff3SPN2.DNA.fromCoarsePDB_through_pdframe(pd_frames=cg_fiber_unique_chainID, dna_type='B_curved', compute_topology=True)\n",
    "with open(protein_seq_path, 'r') as ps:\n",
    "    protein_seq = ps.readlines()[0].rstrip()\n",
    "protein = ffCalpha.Protein.fromCoarsePDB_through_pdframe(pd_frames=cg_fiber_unique_chainID, sequence=protein_seq)\n",
    "\n",
    "dna.periodic = False\n",
    "protein.periodic = False\n"
   ]
  },
  {
   "cell_type": "markdown",
   "metadata": {},
   "source": [
    "## 2.2 Set up forces"
   ]
  },
  {
   "cell_type": "markdown",
   "metadata": {},
   "source": [
    "### 2.2.1 Set up rigid body list and chain list"
   ]
  },
  {
   "cell_type": "code",
   "execution_count": 8,
   "metadata": {},
   "outputs": [
    {
     "name": "stdout",
     "output_type": "stream",
     "text": [
      "n_cg_atoms = 3830\n"
     ]
    }
   ],
   "source": [
    "# create rigid identity list for the fiber\n",
    "rigid_body_array = np.loadtxt(group_rigid_txt_path, dtype=int) - 1 # atom index starts from 0\n",
    "fiber_rigid_identity = []\n",
    "n_cg_atoms = cg_fiber.shape[0]\n",
    "print('n_cg_atoms = %d' % n_cg_atoms)\n",
    "for i in range(n_cg_atoms):\n",
    "    rigid_identity = None\n",
    "    if apply_rigid_body:\n",
    "        for j in range(n_nucl):\n",
    "            if i in rigid_body_array[j]:\n",
    "                rigid_identity = j\n",
    "                break\n",
    "    fiber_rigid_identity.append(rigid_identity)\n",
    "\n",
    "histones_chains = openFiberTools.get_single_fiber_histones_chains(n_nucl)"
   ]
  },
  {
   "cell_type": "markdown",
   "metadata": {},
   "source": [
    "### 2.2.2 Set up forces for histones and dna"
   ]
  },
  {
   "cell_type": "code",
   "execution_count": 9,
   "metadata": {},
   "outputs": [
    {
     "name": "stdout",
     "output_type": "stream",
     "text": [
      "Compare with lammps, so we remove protein native pairs from protein_exclusions_list\n",
      "Before removing protein native pairs, total number of exclusions between protein atoms is 11119\n",
      "After removing protein native pairs, total number of exclusions between protein atoms is 5748\n",
      "total number of protein native pairs is 5371\n",
      "total number of exclusions between DNA atoms is 57486\n",
      "Add DNA-DNA forces\n",
      "force_name = Bond\n",
      "force name Bond is updated to BondDNA\n",
      "force_name = Angle\n",
      "force name Angle is updated to AngleDNA\n",
      "force_name = Stacking\n",
      "force_name = Dihedral\n",
      "force name Dihedral is updated to DihedralDNA\n",
      "force_name = BasePair\n",
      "force_name = CrossStacking\n",
      "force_name = Exclusion\n",
      "Number of exclusions is 63234\n",
      "force name Exclusion is updated to ExclusionDNA_DNA\n",
      "force_name = Electrostatics\n",
      "Number of exclusions is 63234\n",
      "force name Electrostatics is updated to ElectrostaticsDNA_DNA\n",
      "Add protein-DNA forces\n",
      "force_name = ExclusionProteinDNA\n",
      "force_name = ElectrostaticsProteinDNA\n",
      "Add protein-protein forces\n"
     ]
    }
   ],
   "source": [
    "# load the force parameters given by smog\n",
    "smog_atoms_file_path = '%s/atoms.dat' % smog_output_dir\n",
    "smog_bonds_file_path = '%s/bonds.dat' % smog_output_dir\n",
    "smog_angles_file_path = '%s/angles.dat' % smog_output_dir\n",
    "smog_dihedrals_file_path = '%s/dihedrals.dat' % smog_output_dir\n",
    "smog_exclusions_file_path = '%s/exclusions.dat' % smog_output_dir\n",
    "smog_pairs_file_path = '%s/pairs.dat' % smog_output_dir\n",
    "\n",
    "smog_bonds_data = openFiberTools.load_smog_bonds(smog_bonds_file_path)\n",
    "smog_angles_data = openFiberTools.load_smog_angles(smog_angles_file_path)\n",
    "smog_dihedrals_data = openFiberTools.load_smog_dihedrals(smog_dihedrals_file_path)\n",
    "smog_pairs_data = openFiberTools.load_smog_pairs(smog_pairs_file_path)\n",
    "\n",
    "smog_data = dict(bonds=smog_bonds_data, angles=smog_angles_data, dihedrals=smog_dihedrals_data, pairs=smog_pairs_data)\n",
    "\n",
    "# set force dictionary\n",
    "forces = {}\n",
    "\n",
    "# set exclusions list\n",
    "protein_exclusions_list, dna_exclusions_list = openFiberTools.buildNonBondedExclusionsList(protein, dna, smog_exclusions_file_path, fiber_rigid_identity)\n",
    "\n",
    "if compare_with_lammps:\n",
    "    print('Compare with lammps, so we remove protein native pairs from protein_exclusions_list')\n",
    "    print('Before removing protein native pairs, total number of exclusions between protein atoms is %d' % len(protein_exclusions_list))\n",
    "    # for comparison with lammps, we do not put protein native pairs in protein_exclusions_list\n",
    "    smog_exclusions = np.loadtxt(smog_exclusions_file_path, comments=';') - 1 # let atom index start from 0\n",
    "    if smog_exclusions.ndim == 1:\n",
    "        smog_exclusions = np.reshape(smog_exclusions, (1, -1))\n",
    "    smog_exclusions_list = []\n",
    "    for i in range(smog_exclusions.shape[0]):\n",
    "        i1, i2 = int(smog_exclusions[i, 0]), int(smog_exclusions[i, 1])\n",
    "        if i1 > i2:\n",
    "            i1, i2 = i2, i1\n",
    "        smog_exclusions_list.append((i1, i2))\n",
    "    protein_exclusions_list_compare_with_lammps = []\n",
    "    for each in protein_exclusions_list:\n",
    "        if each not in smog_exclusions_list:\n",
    "            protein_exclusions_list_compare_with_lammps.append(each)\n",
    "    protein_exclusions_list = protein_exclusions_list_compare_with_lammps\n",
    "    print('After removing protein native pairs, total number of exclusions between protein atoms is %d' % len(protein_exclusions_list))\n",
    "else:\n",
    "    print('total number of exclusions between protein atoms is %d' % len(protein_exclusions_list))\n",
    "\n",
    "print('total number of protein native pairs is %d' % len(smog_exclusions_list))\n",
    "print('total number of exclusions between DNA atoms is %d' % len(dna_exclusions_list))\n",
    "\n",
    "\n",
    "# add DNA-DNA, protein-DNA and protein-protein interactions\n",
    "openFiberTools.add_dna_protein_forces(s, forces, dna, protein, smog_data, dna_exclusions_list, protein_exclusions_list, fiber_rigid_identity, scale_factor) # for simulations\n",
    "\n"
   ]
  },
  {
   "cell_type": "markdown",
   "metadata": {},
   "source": [
    "## 2.3 Set up rigid body"
   ]
  },
  {
   "cell_type": "code",
   "execution_count": 10,
   "metadata": {},
   "outputs": [],
   "source": [
    "rigid_body_array = np.loadtxt(group_rigid_txt_path, dtype=int) - 1 # atom index starts from 0\n",
    "rigid_body_list = []\n",
    "for i in range(n_nucl):\n",
    "    new_list = rigid_body_array[i].tolist()\n",
    "    new_list = [int(each) for each in new_list]\n",
    "    rigid_body_list.append(new_list)\n",
    "openFiber.rigid.createRigidBodies(s, coord, rigid_body_list)"
   ]
  },
  {
   "cell_type": "markdown",
   "metadata": {},
   "source": [
    "## 2.4 Run the simulation"
   ]
  },
  {
   "cell_type": "code",
   "execution_count": 11,
   "metadata": {},
   "outputs": [
    {
     "name": "stdout",
     "output_type": "stream",
     "text": [
      "The unRESCALED energy is 30316.217933 kcal/mol\n",
      "force group 6, force name BondDNA, energy 794.973379 kcal/mol\n",
      "force group 7, force name AngleDNA, energy 4022.794150 kcal/mol\n",
      "force group 8, force name Stacking, energy -85.480694 kcal/mol\n",
      "force group 9, force name DihedralDNA, energy -1491.847922 kcal/mol\n",
      "force group 10, force name BasePair, energy -797.361919 kcal/mol\n",
      "force group 11, force name CrossStacking, energy -184.953772 kcal/mol\n",
      "force group 12, force name ExclusionDNA_DNA, energy 68.916876 kcal/mol\n",
      "force group 13, force name ElectrostaticsDNA_DNA, energy 107.558095 kcal/mol\n",
      "force group 14, force name ExclusionProteinDNA, energy 31590.688928 kcal/mol\n",
      "force group 15, force name ElectrostaticsProteinDNA, energy -378.163878 kcal/mol\n",
      "force group 19, force name SBM_Bond, energy 0.000000 kcal/mol\n",
      "force group 20, force name SBM_Angle, energy 0.000000 kcal/mol\n",
      "force group 21, force name SBM_Dihedral, energy 0.000000 kcal/mol\n",
      "force group 22, force name SBM_Pair, energy -3209.249522 kcal/mol\n",
      "force group 23, force name Nonbonded_MJ, energy -207.924599 kcal/mol\n",
      "force group 24, force name ElectrostaticsProteinProtein, energy 86.268811 kcal/mol\n"
     ]
    }
   ],
   "source": [
    "temperature = 300*simtk.openmm.unit.kelvin\n",
    "\n",
    "integrator = simtk.openmm.LangevinIntegrator(temperature, 1/simtk.openmm.unit.picosecond, 10*simtk.openmm.unit.femtoseconds)\n",
    "platform = simtk.openmm.Platform.getPlatformByName(platform_name)\n",
    "\n",
    "simulation = simtk.openmm.app.Simulation(top, s, integrator, platform)\n",
    "\n",
    "simulation.context.setPositions(coord)\n",
    "#energy_unit=simtk.openmm.unit.kilojoule_per_mole\n",
    "energy_unit = simtk.openmm.unit.kilocalories_per_mole\n",
    "state = simulation.context.getState(getEnergy=True)\n",
    "energy = state.getPotentialEnergy().value_in_unit(energy_unit)\n",
    "print(\"The unRESCALED energy is %.6f %s\" % (energy, energy_unit.get_symbol()))\n",
    "\n",
    "# get the detailed energy after the simulation\n",
    "# double check SBM pair, nonbonded, and electrostatic interactions\n",
    "energies = {}\n",
    "for force_name, force in forces.items():\n",
    "    group = force.getForceGroup()\n",
    "    state = simulation.context.getState(getEnergy=True, groups={group})\n",
    "    energies[force_name] = state.getPotentialEnergy().value_in_unit(energy_unit)\n",
    "    print('force group %d, force name %s, energy %.6f %s' % (group, force_name, energies[force_name], energy_unit.get_symbol()))"
   ]
  },
  {
   "cell_type": "code",
   "execution_count": 12,
   "metadata": {},
   "outputs": [],
   "source": [
    "# Now we will save a serialization of this simulation into OpenMM's native XML format\n",
    "# We can re-initialize the system later for further simulations without all of the bothersome set-up by loading these files!\n",
    "# We'll write exactly the same XML files Folding@home uses to transfer simulation data for restarts to/from users\n",
    "state = simulation.context.getState(getPositions=True, getVelocities=True, getForces=True, getEnergy=True, getParameters=True, enforcePeriodicBox=False)\n",
    "\n",
    "# system.xml contains all of the force field parameters\n",
    "with open('%s/system.xml' % openmm_files_dir, 'w') as f:\n",
    "    system_xml = simtk.openmm.XmlSerializer.serialize(s) \n",
    "    f.write(system_xml)\n",
    "    # integrator.xml contains the configuration for the integrator, RNG seed\n",
    "with open('%s/integrator.xml' % openmm_files_dir, 'w') as f:\n",
    "    integrator_xml = simtk.openmm.XmlSerializer.serialize(integrator) \n",
    "    f.write(integrator_xml)\n",
    "    # state.xml contains positions, velocities, forces, the barostat\n",
    "with open('%s/state.xml' % openmm_files_dir, 'w') as f: \n",
    "    f.write(simtk.openmm.XmlSerializer.serialize(state))\n",
    "\n",
    "# there is also a binary \"Checkpoint\" file\n",
    "# using a \"Checkpoint\" file only work on the same hardware+software combination. \n",
    "simulation.saveState('%s/state_serialized.xml' % openmm_files_dir)\n",
    "simulation.saveCheckpoint('%s/checkpnt.chk' % openmm_files_dir)\n"
   ]
  },
  {
   "cell_type": "code",
   "execution_count": 13,
   "metadata": {},
   "outputs": [
    {
     "name": "stdout",
     "output_type": "stream",
     "text": [
      "energy minimization time cost: 125.12\n",
      "energy minimized\n",
      "energy = -4240.803232 kcal/mol\n",
      "force group 6, force name BondDNA, energy 309.558920 kcal/mol\n",
      "force group 7, force name AngleDNA, energy 2128.137879 kcal/mol\n",
      "force group 8, force name Stacking, energy -483.506631 kcal/mol\n",
      "force group 9, force name DihedralDNA, energy -1692.470229 kcal/mol\n",
      "force group 10, force name BasePair, energy -945.608672 kcal/mol\n",
      "force group 11, force name CrossStacking, energy -256.205072 kcal/mol\n",
      "force group 12, force name ExclusionDNA_DNA, energy 32.857966 kcal/mol\n",
      "force group 13, force name ElectrostaticsDNA_DNA, energy 107.690893 kcal/mol\n",
      "force group 14, force name ExclusionProteinDNA, energy 251.022538 kcal/mol\n",
      "force group 15, force name ElectrostaticsProteinDNA, energy -366.108759 kcal/mol\n",
      "force group 19, force name SBM_Bond, energy 0.145014 kcal/mol\n",
      "force group 20, force name SBM_Angle, energy 2.508176 kcal/mol\n",
      "force group 21, force name SBM_Dihedral, energy 4.486188 kcal/mol\n",
      "force group 22, force name SBM_Pair, energy -3203.786421 kcal/mol\n",
      "force group 23, force name Nonbonded_MJ, energy -214.996987 kcal/mol\n",
      "force group 24, force name ElectrostaticsProteinProtein, energy 85.471963 kcal/mol\n"
     ]
    }
   ],
   "source": [
    "# do the energy minimization\n",
    "start_time = time.time()\n",
    "simulation.minimizeEnergy()\n",
    "end_time = time.time()\n",
    "delta_time = end_time - start_time\n",
    "print('energy minimization time cost: %.2f' % delta_time)\n",
    "energy_unit = simtk.openmm.unit.kilocalories_per_mole\n",
    "state = simulation.context.getState(getEnergy=True)\n",
    "energy = state.getPotentialEnergy().value_in_unit(energy_unit)\n",
    "print('energy minimized')\n",
    "print('energy = %.6f %s' % (energy, energy_unit.get_symbol()))\n",
    "for force_name, force in forces.items():\n",
    "    group=force.getForceGroup()\n",
    "    state = simulation.context.getState(getEnergy=True, groups={group})\n",
    "    energies[force_name] = state.getPotentialEnergy().value_in_unit(energy_unit)\n",
    "    print('force group %d, force name %s, energy %.6f %s' % (group, force_name, energies[force_name], energy_unit.get_symbol()))"
   ]
  },
  {
   "cell_type": "code",
   "execution_count": 14,
   "metadata": {},
   "outputs": [
    {
     "name": "stdout",
     "output_type": "stream",
     "text": [
      "#\"Step\",\"Time (ps)\",\"Potential Energy (kJ/mole)\",\"Kinetic Energy (kJ/mole)\",\"Total Energy (kJ/mole)\",\"Temperature (K)\",\"Speed (ns/day)\"\n",
      "100,1.0000000000000007,-13306.25621693386,4726.702077330317,-8579.554139603544,244.67036385877455,0\n",
      "200,2.0000000000000013,-12805.311548195703,5412.277850536156,-7393.033697659547,280.1581249105086,2.78\n",
      "simulation takes 61.92 seconds for 200 steps\n"
     ]
    }
   ],
   "source": [
    "# run simulation\n",
    "simulation.context.setVelocitiesToTemperature(temperature)\n",
    "\n",
    "# add simulation reporters\n",
    "dcd_reporter = simtk.openmm.app.DCDReporter('%s/output.dcd' % sim_output_dir, 100)\n",
    "energy_reporter = simtk.openmm.app.StateDataReporter(sys.stdout, 100, step=True, time=True, potentialEnergy=True, kineticEnergy=True, totalEnergy=True, temperature=True, speed=True)\n",
    "simulation.reporters.append(dcd_reporter)\n",
    "simulation.reporters.append(energy_reporter)\n",
    "start_time = time.time()\n",
    "n_steps = 200\n",
    "simulation.step(n_steps)\n",
    "end_time = time.time()\n",
    "delta_time = end_time - start_time\n",
    "print('simulation takes %.2f seconds for %d steps' % (delta_time, n_steps))\n"
   ]
  }
 ],
 "metadata": {
  "kernelspec": {
   "display_name": "Python 3.6.13 ('py36')",
   "language": "python",
   "name": "python3"
  },
  "language_info": {
   "codemirror_mode": {
    "name": "ipython",
    "version": 3
   },
   "file_extension": ".py",
   "mimetype": "text/x-python",
   "name": "python",
   "nbconvert_exporter": "python",
   "pygments_lexer": "ipython3",
   "version": "3.6.13"
  },
  "orig_nbformat": 4,
  "vscode": {
   "interpreter": {
    "hash": "5e42ed4e8962b6a0e760cb1d7dc1440f8ce079ffe3bfde2a417c3dc1510e2af6"
   }
  }
 },
 "nbformat": 4,
 "nbformat_minor": 2
}
