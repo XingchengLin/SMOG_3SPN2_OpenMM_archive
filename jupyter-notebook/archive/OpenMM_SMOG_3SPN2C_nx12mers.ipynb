{
 "cells": [
  {
   "cell_type": "code",
   "execution_count": null,
   "metadata": {},
   "outputs": [],
   "source": [
    "import sys\n",
    "import numpy as np\n",
    "import pandas as pd\n",
    "import simtk.openmm\n",
    "import os\n",
    "import glob\n",
    "import shutil\n",
    "import time\n",
    "import MDAnalysis as mda\n",
    "import math\n",
    "pd.set_option(\"display.precision\", 10)\n",
    "\n",
    "ca_sbm_3spn_openmm_path = '/Users/administrator/Documents/Projects/CA_SBM_3SPN2C_OPENMM'\n",
    "sys.path.insert(0, ca_sbm_3spn_openmm_path)\n",
    "\n",
    "import openSMOG3SPN2.open3SPN2.ff3SPN2 as ff3SPN2\n",
    "import openSMOG3SPN2.calphaSMOG.ffCalpha as ffCalpha\n",
    "import openSMOG3SPN2.openFiber as openFiber\n",
    "import openSMOG3SPN2.rigid\n",
    "\n",
    "# set some global parameters\n",
    "n_nucl_each_fiber = 12 # the number of nucleosomes in each chromatin fiber\n",
    "n_fibers = 2 # the number of chromatin fibers\n",
    "scale_factor = 2.5 # scale factor for all the SBM related potentials\n",
    "apply_rigid_body = False\n",
    "compare_with_lammps = True\n",
    "run_sim = False\n",
    "\n",
    "ffCalpha_xml_path = '%s/openSMOG3SPN2/calphaSMOG/ffCalpha.xml' % ca_sbm_3spn_openmm_path\n",
    "single_fiber_dcd_path = '%s/data/chromatin-%dmer/chromatin-%dmer-snapshots/relaxed1.dcd' % (ca_sbm_3spn_openmm_path, n_nucl_each_fiber, n_nucl_each_fiber)\n",
    "single_fiber_group_rigid_txt_path = '%s/data/chromatin-%dmer/chromatin-%dmer-rigid-group/group_rigid.txt' % (ca_sbm_3spn_openmm_path, n_nucl_each_fiber, n_nucl_each_fiber) # group_rigid.txt file with atom index starts from 1 (lammps format)\n",
    "single_fiber_main_output_dir = '%s/output-files/chromatin-%dmer' % (ca_sbm_3spn_openmm_path, n_nucl_each_fiber) # the main output directory for a single chromatin fiber\n",
    "multi_fibers_main_output_dir = '%s/output-files/chromatin-%dx%dmers' % (ca_sbm_3spn_openmm_path, n_fibers, n_nucl_each_fiber) # the main output directory for multiple chromatin fibers\n",
    "single_fiber_smog_output_dir = '%s/smog' % single_fiber_main_output_dir # smog output directory for single chromatin fiber\n",
    "openmm_files_dir = '%s/openmm-files' % multi_fibers_main_output_dir\n",
    "\n",
    "platform_name = 'CPU' # 'Reference', 'CPU', 'CUDA', 'OpenCL'\n",
    "sim_output_dir = '%s/sim-test-%s' % (openmm_files_dir, platform_name)\n",
    "\n",
    "# build the output directories\n",
    "if not os.path.exists(single_fiber_main_output_dir):\n",
    "    print('%s does not exist!' % single_fiber_main_output_dir)\n",
    "if not os.path.exists(single_fiber_smog_output_dir):\n",
    "    print('%s does not exist!' % single_fiber_smog_output_dir)\n",
    "if not os.path.exists('%s/cg-fibers' % multi_fibers_main_output_dir):\n",
    "    os.makedirs('%s/cg-fibers' % multi_fibers_main_output_dir)\n",
    "if not os.path.exists(sim_output_dir):\n",
    "    os.makedirs(sim_output_dir)"
   ]
  },
  {
   "cell_type": "markdown",
   "metadata": {},
   "source": [
    "# 1 Build multiple fiber system from single fiber"
   ]
  },
  {
   "cell_type": "markdown",
   "metadata": {},
   "source": [
    "## 1.1 Load the structure of single chromatin fiber"
   ]
  },
  {
   "cell_type": "code",
   "execution_count": null,
   "metadata": {},
   "outputs": [],
   "source": [
    "# load the pandas dataframe of single fiber structure\n",
    "single_cg_fiber_unique_chainID = pd.read_csv('%s/cg-fiber/cg_fiber_unique_chainID.csv' % single_fiber_main_output_dir)\n",
    "single_cg_fiber = pd.read_csv('%s/cg-fiber/cg_fiber.csv' % single_fiber_main_output_dir)\n",
    "\n",
    "n_cg_atoms_each_fiber = single_cg_fiber_unique_chainID.shape[0]"
   ]
  },
  {
   "cell_type": "markdown",
   "metadata": {},
   "source": [
    "## 1.2 Build the structure for multiple chromatin fibers"
   ]
  },
  {
   "cell_type": "code",
   "execution_count": null,
   "metadata": {},
   "outputs": [],
   "source": [
    "# build the pandas dataframe for multiple fibers\n",
    "# build two pandas dataframes, one with unique chainID and resSeq, and one without unique chainID or resSeq\n",
    "# the one without unique chainID or resSeq will be converted to pdb format and later loaded by openmm\n",
    "delta_x, delta_y, delta_z = -180, 100, 0\n",
    "cg_fibers_unique_chainID = single_cg_fiber_unique_chainID.copy()\n",
    "cg_fibers = single_cg_fiber.copy()\n",
    "for i in range(1, n_fibers):\n",
    "    cg_fiber_i_unique_chainID = single_cg_fiber_unique_chainID.copy()\n",
    "    cg_fiber_i_unique_chainID['x'] += i*delta_x\n",
    "    cg_fiber_i_unique_chainID['y'] += i*delta_y\n",
    "    cg_fiber_i_unique_chainID['z'] += i*delta_z\n",
    "    cg_fibers_unique_chainID = openFiber.combine_molecules(cg_fibers_unique_chainID, cg_fiber_i_unique_chainID, add_resSeq=False)\n",
    "    cg_fiber_i = single_cg_fiber.copy()\n",
    "    cg_fiber_i['x'] += i*delta_x\n",
    "    cg_fiber_i['y'] += i*delta_y\n",
    "    cg_fiber_i['z'] += i*delta_z\n",
    "    cg_fibers = openFiber.combine_molecules(cg_fibers, cg_fiber_i, add_serial=False, add_resSeq=False)\n",
    "\n",
    "# move center to (0, 0, 0)\n",
    "cg_fibers = openFiber.move_complex_to_center(cg_fibers)\n",
    "cg_fibers_unique_chainID = openFiber.move_complex_to_center(cg_fibers_unique_chainID)\n",
    "\n",
    "cg_fibers_unique_chainID = openFiber.change_unique_chainID(cg_fibers_unique_chainID)\n",
    "cg_fibers_unique_chainID.index = list(range(len(cg_fibers_unique_chainID.index)))\n",
    "cg_fibers.index = list(range(len(cg_fibers.index)))\n",
    "\n",
    "n_cg_atoms = len(cg_fibers.index)\n",
    "\n",
    "# replace NaN with ''\n",
    "cg_fibers_unique_chainID = cg_fibers_unique_chainID.fillna('')\n",
    "cg_fibers = cg_fibers.fillna('')\n",
    "\n",
    "cg_fibers_pdb_path = '%s/cg-fibers/cg_fibers.pdb' % multi_fibers_main_output_dir\n",
    "ffCalpha.writePDB(cg_fibers, cg_fibers_pdb_path)\n",
    "cg_fibers_unique_chainID.to_csv('%s/cg-fibers/cg_fibers_unique_chainID.csv' % multi_fibers_main_output_dir, index=False)"
   ]
  },
  {
   "cell_type": "markdown",
   "metadata": {},
   "source": [
    "# 2 Set up OpenMM simulations"
   ]
  },
  {
   "cell_type": "markdown",
   "metadata": {},
   "source": [
    "## 2.1 Set up the system, protein and dna objects"
   ]
  },
  {
   "cell_type": "code",
   "execution_count": null,
   "metadata": {},
   "outputs": [],
   "source": [
    "os.chdir('%s/cg-fibers' % multi_fibers_main_output_dir)\n",
    "\n",
    "pdb = simtk.openmm.app.PDBFile(cg_fibers_pdb_path)\n",
    "top = pdb.getTopology()\n",
    "#coord_pdb = pdb.getPositions(asNumpy=True)\n",
    "\n",
    "# get position from dcd file\n",
    "# start from single fiber coordinate\n",
    "single_cg_fiber_pdb_path = '%s/cg-fiber/cg_fiber.pdb' % single_fiber_main_output_dir\n",
    "single_fiber_coord = openFiber.load_coord_from_dcd(single_cg_fiber_pdb_path, single_fiber_dcd_path)\n",
    "# extend single fiber coordinate to mutliple fibers\n",
    "\n",
    "\n",
    "forcefield = simtk.openmm.app.ForceField(ffCalpha_xml_path, ff3SPN2.xml)\n",
    "s = forcefield.createSystem(top)"
   ]
  },
  {
   "cell_type": "code",
   "execution_count": null,
   "metadata": {},
   "outputs": [],
   "source": [
    "# create the DNA and protein objects\n",
    "# set dna bonds, angles, and dihedrals from the parameters of single dsDNA\n",
    "# so the original open3SPN2 code will build a long DNA with sequence composed of all the bases, though convenient, this may lead to some boundary effects\n",
    "# do not use ff3SPN2 to automatically set bonds, angles, and dihedrals (i.e. set compute_topology as False, then ff3PNS2.DNA.fromCoarsePDB_thorugh_pdframe will not automatically get dna bonds, angles, stackings, and dihedrals)\n",
    "# load dna bonds, angles, and dihedrals manually based on single chromatin fiber dna bonds, angels, and dihedrals\n",
    "dna = ff3SPN2.DNA.fromCoarsePandasDataFrame(pd_df=cg_fibers_unique_chainID, dna_type='B_curved', compute_topology=False, parse_config=True)\n",
    "single_fiber_dna_bonds = pd.read_csv('%s/cg-fiber/dna_bonds.csv' % single_fiber_main_output_dir)\n",
    "single_fiber_dna_angles = pd.read_csv('%s/cg-fiber/dna_angles.csv' % single_fiber_main_output_dir)\n",
    "single_fiber_dna_stackings = pd.read_csv('%s/cg-fiber/dna_stackings.csv' % single_fiber_main_output_dir)\n",
    "single_fiber_dna_dihedrals = pd.read_csv('%s/cg-fiber/dna_dihedrals.csv' % single_fiber_main_output_dir)\n",
    "single_fiber_dna_topo_dict = dict(bond=single_fiber_dna_bonds, \n",
    "                                  angle=single_fiber_dna_angles, \n",
    "                                  stacking=single_fiber_dna_stackings, \n",
    "                                  dihedral=single_fiber_dna_dihedrals)\n",
    "openFiber.add_topo_to_fibers_from_single_fiber_dna(dna, single_fiber_dna_topo_dict, n_fibers, n_cg_atoms_each_fiber)\n",
    "#print(dna.bonds)\n",
    "\n",
    "single_fiber_protein_seq_path = '%s/cg-fiber/protein_seq.txt' % single_fiber_main_output_dir\n",
    "with open(single_fiber_protein_seq_path, 'r') as ps:\n",
    "    single_fiber_protein_seq = ps.readlines()[0].rstrip()\n",
    "multi_fibers_protein_seq = single_fiber_protein_seq*n_fibers\n",
    "\n",
    "protein = ffCalpha.Protein.fromCoarsePandasDataFrame(pd_df=cg_fibers_unique_chainID, sequence=multi_fibers_protein_seq)\n",
    "\n",
    "dna.periodic = False\n",
    "protein.periodic = False\n"
   ]
  },
  {
   "cell_type": "code",
   "execution_count": null,
   "metadata": {},
   "outputs": [],
   "source": [
    "# save the coordinate of the multi-fiber system as xyz file for vmd visualization\n",
    "xyz_file = '%s/cg-fibers/fibers_coord_openmm.xyz' % multi_fibers_main_output_dir\n",
    "openFiber.write_openmm_coord_xyz(fibers_coord_openmm, cg_fibers, xyz_file)"
   ]
  },
  {
   "cell_type": "code",
   "execution_count": null,
   "metadata": {},
   "outputs": [],
   "source": [
    "# create rigid identity list for the fiber\n",
    "if apply_rigid_body:\n",
    "    pass # to be fulfilled\n",
    "else:\n",
    "    fibers_rigid_identity = [None]*n_cg_atoms\n",
    "\n",
    "# get exclusions list\n",
    "single_fiber_dna_exclusions_list = openFiber.load_exclusions_list('%s/cg-fiber/dna_exclusions.dat' % single_fiber_main_output_dir)\n",
    "if compare_with_lammps:\n",
    "    # if compare with lammps, then openmm needs to compute electrostatic and MJ potential for protein native pairs\n",
    "    print('Compare with lammps, so we need to compute electrostatic and MJ potential for protein native pairs')\n",
    "    single_fiber_protein_exclusions_list_file = '%s/cg-fiber/protein_exclusions_compare_with_lammps.dat' % single_fiber_main_output_dir\n",
    "    single_fiber_protein_exclusions_list = openFiber.load_exclusions_list(single_fiber_protein_exclusions_list_file)\n",
    "else:\n",
    "    single_fiber_protein_exclusions_list_file = '%s/cg-fiber/protein_exclusions.dat' % single_fiber_main_output_dir\n",
    "    single_fiber_protein_exclusions_list = openFiber.load_exclusions_list(single_fiber_protein_exclusions_list_file)\n",
    "\n",
    "fibers_dna_exclusions_list = ff3SPN2.buildDNANonBondedExclusionsList(dna) # since there are exclusions between W-C paired basepairs, we cannot simply generalize exclusions from single fiber DNA exclusions\n",
    "fibers_protein_exclusions_list = openFiber.extend_exclusions(single_fiber_protein_exclusions_list, n_fibers, n_cg_atoms_each_fiber)\n",
    "\n",
    "print('total number of exclusions between DNA atoms is %d' % len(fibers_dna_exclusions_list))\n",
    "print('total number of exclusions between protein atoms is %d' % len(fibers_protein_exclusions_list))\n"
   ]
  },
  {
   "cell_type": "markdown",
   "metadata": {},
   "source": [
    "## 2.2 Set up forces for histones and dna"
   ]
  },
  {
   "cell_type": "code",
   "execution_count": null,
   "metadata": {},
   "outputs": [],
   "source": [
    "# set force dictionary\n",
    "forces = {}\n",
    "\n",
    "# load smog data\n",
    "single_fiber_smog_bonds_file_path = '%s/bonds.dat' % single_fiber_smog_output_dir\n",
    "single_fiber_smog_angles_file_path = '%s/angles.dat' % single_fiber_smog_output_dir\n",
    "single_fiber_smog_dihedrals_file_path = '%s/dihedrals_IDR_removed.dat' % single_fiber_smog_output_dir\n",
    "single_fiber_smog_exclusions_file_path = '%s/exclusions_IDR_removed.dat' % single_fiber_smog_output_dir\n",
    "single_fiber_smog_pairs_file_path = '%s/pairs_IDR_removed.dat' % single_fiber_smog_output_dir\n",
    "\n",
    "single_fiber_smog_bonds_data = openFiber.load_smog_bonds(single_fiber_smog_bonds_file_path)\n",
    "single_fiber_smog_angles_data = openFiber.load_smog_angles(single_fiber_smog_angles_file_path)\n",
    "single_fiber_smog_dihedrals_data = openFiber.load_smog_dihedrals(single_fiber_smog_dihedrals_file_path)\n",
    "single_fiber_smog_exclusions_data = openFiber.load_smog_exclusions(single_fiber_smog_exclusions_file_path)\n",
    "single_fiber_smog_pairs_data = openFiber.load_smog_pairs(single_fiber_smog_pairs_file_path)\n",
    "\n",
    "fibers_smog_bonds_data = openFiber.extend_single_fiber_to_multi_fibers_bonds(single_fiber_smog_bonds_data, n_fibers, n_cg_atoms_each_fiber)\n",
    "fibers_smog_angles_data = openFiber.extend_single_fiber_to_multi_fibers_angles(single_fiber_smog_angles_data, n_fibers, n_cg_atoms_each_fiber)\n",
    "fibers_smog_dihedrals_data = openFiber.extend_single_fiber_to_multi_fibers_dihedrals(single_fiber_smog_dihedrals_data, n_fibers, n_cg_atoms_each_fiber)\n",
    "fibers_smog_exclusions_data = openFiber.extend_single_fiber_to_multi_fibers_exclusions(single_fiber_smog_exclusions_data, n_fibers, n_cg_atoms_each_fiber)\n",
    "fibers_smog_pairs_data = openFiber.extend_single_fiber_to_multi_fibers_pairs(single_fiber_smog_pairs_data, n_fibers, n_cg_atoms_each_fiber)\n",
    "\n",
    "fibers_smog_data = dict(bonds=fibers_smog_bonds_data, \n",
    "                        angles=fibers_smog_angles_data, \n",
    "                        dihedrals=fibers_smog_dihedrals_data, \n",
    "                        pairs=fibers_smog_pairs_data)\n",
    "\n",
    "# add dna, protein interactions\n",
    "openFiber.add_protein_dna_forces(s, forces, dna, protein, fibers_smog_data, fibers_dna_exclusions_list, fibers_protein_exclusions_list, fibers_rigid_identity, scale_factor)\n"
   ]
  },
  {
   "cell_type": "markdown",
   "metadata": {},
   "source": [
    "## 2.3 Set up rigid body"
   ]
  },
  {
   "cell_type": "code",
   "execution_count": null,
   "metadata": {},
   "outputs": [],
   "source": [
    "if apply_rigid_body:\n",
    "    rigid_body_list = []\n",
    "    for i in range(n_nucl_each_fiber*n_fibers):\n",
    "        rigid_body_list.append([])\n",
    "\n",
    "    for i in range(len(fibers_rigid_identity)):\n",
    "        j = fibers_rigid_identity[i]\n",
    "        if j == None:\n",
    "            pass\n",
    "        else:\n",
    "            rigid_body_list[j].append(i)\n",
    "\n",
    "    #print(rigid_body_list)\n",
    "    openFiber.rigid.createRigidBodies(s, fibers_coord_openmm, rigid_body_list)"
   ]
  },
  {
   "cell_type": "markdown",
   "metadata": {},
   "source": [
    "## 2.4 Run the simulation"
   ]
  },
  {
   "cell_type": "code",
   "execution_count": null,
   "metadata": {},
   "outputs": [],
   "source": [
    "temperature = 300*simtk.openmm.unit.kelvin\n",
    "\n",
    "integrator = simtk.openmm.LangevinIntegrator(temperature, 1/simtk.openmm.unit.picosecond, 10*simtk.openmm.unit.femtoseconds)\n",
    "platform = simtk.openmm.Platform.getPlatformByName(platform_name)\n",
    "\n",
    "if platform_name == 'CUDA':\n",
    "    properties = {'Precision':'double'}\n",
    "    simulation = simtk.openmm.app.Simulation(top, s, integrator, platform, properties)\n",
    "else:\n",
    "    simulation = simtk.openmm.app.Simulation(top, s, integrator, platform)\n",
    "\n",
    "simulation.context.setPositions(fibers_coord_openmm)\n",
    "#energy_unit=simtk.openmm.unit.kilojoule_per_mole\n",
    "energy_unit = simtk.openmm.unit.kilocalories_per_mole\n",
    "state = simulation.context.getState(getEnergy=True)\n",
    "energy = state.getPotentialEnergy().value_in_unit(energy_unit)\n",
    "print(\"The overall energy is %.6f %s\" % (energy, energy_unit.get_symbol()))\n",
    "\n",
    "# get the detailed energy after the simulation\n",
    "# double check SBM pair, nonbonded, and electrostatic interactions\n",
    "df_forces_name_group = pd.read_csv('%s/forces_name_group.csv' % single_fiber_main_output_dir)\n",
    "for index, row in df_forces_name_group.iterrows():\n",
    "    group, force_name = int(row['group']), row['name']\n",
    "    state = simulation.context.getState(getEnergy=True, groups={group})\n",
    "    energy = state.getPotentialEnergy().value_in_unit(energy_unit)\n",
    "    print('Group: %d, force name: %s, energy = %.6f %s' % (group, force_name, energy, energy_unit.get_symbol()))"
   ]
  },
  {
   "cell_type": "code",
   "execution_count": null,
   "metadata": {},
   "outputs": [],
   "source": [
    "if run_sim:\n",
    "    # do the energy minimization\n",
    "    start_time = time.time()\n",
    "    simulation.minimizeEnergy()\n",
    "    end_time = time.time()\n",
    "    delta_time = end_time - start_time\n",
    "    print('energy minimization takes %.2f seconds' % delta_time)\n",
    "    energy_unit = simtk.openmm.unit.kilocalories_per_mole\n",
    "    state = simulation.context.getState(getEnergy=True)\n",
    "    energy = state.getPotentialEnergy().value_in_unit(energy_unit)\n",
    "    print('energy minimized')\n",
    "    print(\"The overall energy is %.6f %s\" % (energy, energy_unit.get_symbol()))\n",
    "    for index, row in df_forces_name_group.iterrows():\n",
    "        group, force_name = int(row['group']), row['name']\n",
    "        state = simulation.context.getState(getEnergy=True, groups={group})\n",
    "        energy = state.getPotentialEnergy().value_in_unit(energy_unit)\n",
    "        print('Group: %d, force name: %s, energy = %.6f %s' % (group, force_name, energy, energy_unit.get_symbol()))\n",
    "\n",
    "    # run simulation\n",
    "    simulation.context.setVelocitiesToTemperature(temperature)\n",
    "\n",
    "    # add simulation reporters\n",
    "    dcd_reporter = simtk.openmm.app.DCDReporter('%s/output.dcd' % sim_output_dir, 1000)\n",
    "    energy_reporter = simtk.openmm.app.StateDataReporter(sys.stdout, 1000, step=True, time=True, potentialEnergy=True, \n",
    "                                                         kineticEnergy=True, totalEnergy=True, temperature=True, speed=True)\n",
    "    simulation.reporters.append(dcd_reporter)\n",
    "    simulation.reporters.append(energy_reporter)\n",
    "    start_time = time.time()\n",
    "    n_steps = 10000\n",
    "    simulation.step(n_steps)\n",
    "    end_time = time.time()\n",
    "    delta_time = end_time - start_time\n",
    "    print('%d steps takes %.2f seconds' % (n_steps, delta_time))\n"
   ]
  }
 ],
 "metadata": {
  "kernelspec": {
   "display_name": "Python 3.6.13 ('py36')",
   "language": "python",
   "name": "python3"
  },
  "language_info": {
   "codemirror_mode": {
    "name": "ipython",
    "version": 3
   },
   "file_extension": ".py",
   "mimetype": "text/x-python",
   "name": "python",
   "nbconvert_exporter": "python",
   "pygments_lexer": "ipython3",
   "version": "3.6.13"
  },
  "orig_nbformat": 4,
  "vscode": {
   "interpreter": {
    "hash": "e776f19140cfa6c4dbaa4a82d62abb79ecef5196228207df9c7345bac0c3101e"
   }
  }
 },
 "nbformat": 4,
 "nbformat_minor": 2
}
